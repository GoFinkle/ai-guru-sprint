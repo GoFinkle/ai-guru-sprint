{
 "cells": [
  {
   "cell_type": "code",
   "execution_count": null,
   "id": "57214cfa-9971-47d4-a059-47ba1b4f9473",
   "metadata": {},
   "outputs": [],
   "source": [
    "print(\"Hello AI Guru 🚀\")\n",
    "cd C:\\Users\\GoFinkle\\ai-guru-sprint\n"
   ]
  }
 ],
 "metadata": {
  "kernelspec": {
   "display_name": "Python 3 (ipykernel)",
   "language": "python",
   "name": "python3"
  },
  "language_info": {
   "codemirror_mode": {
    "name": "ipython",
    "version": 3
   },
   "file_extension": ".py",
   "mimetype": "text/x-python",
   "name": "python",
   "nbconvert_exporter": "python",
   "pygments_lexer": "ipython3",
   "version": "3.13.7"
  }
 },
 "nbformat": 4,
 "nbformat_minor": 5
}
